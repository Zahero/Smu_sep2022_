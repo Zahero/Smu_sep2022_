{
 "cells": [
  {
   "cell_type": "code",
   "execution_count": 1,
   "id": "40a9a646",
   "metadata": {},
   "outputs": [],
   "source": [
    "import pandas as pd\n",
    "import numpy as np"
   ]
  },
  {
   "cell_type": "code",
   "execution_count": 2,
   "id": "8f7f1899",
   "metadata": {},
   "outputs": [
    {
     "name": "stdout",
     "output_type": "stream",
     "text": [
      "01\n",
      "02\n",
      "03\n",
      "04\n",
      "05\n",
      "06\n",
      "07\n",
      "08\n",
      "09\n",
      "10\n",
      "11\n",
      "12\n"
     ]
    }
   ],
   "source": [
    "#concat\n",
    "months = [\"01\", \"02\", \"03\", \"04\", \"05\", \"06\", \"07\", \"08\", \"09\", \"10\", \"11\", \"12\"]\n",
    "m_df = pd.DataFrame()\n",
    "\n",
    "for month in months:\n",
    "    print(month)\n",
    "    filepath = f\"data/2022{month}-citibike-tripdata.csv\"\n",
    "    df = pd.read_csv(filepath, low_memory = False)\n",
    "    df = df.sample(frac = 0.015, random_state = 42)\n",
    "    m_df = pd.concat([m_df, df], axis=0)\n",
    "    \n",
    "m_df = m_df.reset_index(drop = True)"
   ]
  },
  {
   "cell_type": "code",
   "execution_count": 3,
   "id": "a2594b06",
   "metadata": {},
   "outputs": [],
   "source": [
    "#append\n",
    "# months = [\"01\", \"02\", \"03\", \"04\", \"05\", \"06\", \"07\", \"08\", \"09\", \"10\", \"11\", \"12\"]\n",
    "# m_df = pd.DataFrame()\n",
    "\n",
    "# for month in months:\n",
    "#     print(month)\n",
    "#     filepath = f\"data/2022{month}-citibike-tripdata.csv\"\n",
    "#     df = pd.read_csv(filepath, low_memory = False)\n",
    "#     df = df.sample(frac = 0.015, random_state = 42)\n",
    "#     m_df = m_df.append(df)\n",
    "    \n",
    "# m_df = m_df.reset_index(drop = True)"
   ]
  },
  {
   "cell_type": "code",
   "execution_count": 4,
   "id": "3caa1fa7",
   "metadata": {},
   "outputs": [
    {
     "data": {
      "text/plain": [
       "Index(['ride_id', 'rideable_type', 'started_at', 'ended_at',\n",
       "       'start_station_name', 'start_station_id', 'end_station_name',\n",
       "       'end_station_id', 'start_lat', 'start_lng', 'end_lat', 'end_lng',\n",
       "       'member_casual'],\n",
       "      dtype='object')"
      ]
     },
     "execution_count": 4,
     "metadata": {},
     "output_type": "execute_result"
    }
   ],
   "source": [
    "df.columns"
   ]
  },
  {
   "cell_type": "code",
   "execution_count": null,
   "id": "677dd575",
   "metadata": {},
   "outputs": [],
   "source": []
  },
  {
   "cell_type": "code",
   "execution_count": 5,
   "id": "ef691e74",
   "metadata": {},
   "outputs": [],
   "source": [
    "m_df.to_csv(\"2022_citibike_rides_sample.csv\", index = False)"
   ]
  },
  {
   "cell_type": "code",
   "execution_count": 6,
   "id": "1c3bdc6c",
   "metadata": {},
   "outputs": [
    {
     "data": {
      "text/html": [
       "<div>\n",
       "<style scoped>\n",
       "    .dataframe tbody tr th:only-of-type {\n",
       "        vertical-align: middle;\n",
       "    }\n",
       "\n",
       "    .dataframe tbody tr th {\n",
       "        vertical-align: top;\n",
       "    }\n",
       "\n",
       "    .dataframe thead th {\n",
       "        text-align: right;\n",
       "    }\n",
       "</style>\n",
       "<table border=\"1\" class=\"dataframe\">\n",
       "  <thead>\n",
       "    <tr style=\"text-align: right;\">\n",
       "      <th></th>\n",
       "      <th>ride_id</th>\n",
       "      <th>rideable_type</th>\n",
       "      <th>started_at</th>\n",
       "      <th>ended_at</th>\n",
       "      <th>start_station_name</th>\n",
       "      <th>start_station_id</th>\n",
       "      <th>end_station_name</th>\n",
       "      <th>end_station_id</th>\n",
       "      <th>start_lat</th>\n",
       "      <th>start_lng</th>\n",
       "      <th>end_lat</th>\n",
       "      <th>end_lng</th>\n",
       "      <th>member_casual</th>\n",
       "    </tr>\n",
       "  </thead>\n",
       "  <tbody>\n",
       "    <tr>\n",
       "      <th>0</th>\n",
       "      <td>C694E40A6A22AEB5</td>\n",
       "      <td>electric_bike</td>\n",
       "      <td>2022-01-10 06:40:04</td>\n",
       "      <td>2022-01-10 06:59:42</td>\n",
       "      <td>W 64 St &amp; Thelonious Monk Circle</td>\n",
       "      <td>7123.04</td>\n",
       "      <td>E 33 St &amp; 1 Ave</td>\n",
       "      <td>6197.08</td>\n",
       "      <td>40.775160</td>\n",
       "      <td>-73.989187</td>\n",
       "      <td>40.743227</td>\n",
       "      <td>-73.974498</td>\n",
       "      <td>member</td>\n",
       "    </tr>\n",
       "    <tr>\n",
       "      <th>1</th>\n",
       "      <td>848E6E7284EE384C</td>\n",
       "      <td>classic_bike</td>\n",
       "      <td>2022-01-14 09:07:17</td>\n",
       "      <td>2022-01-14 09:10:31</td>\n",
       "      <td>McGuinness Blvd &amp; Eagle St</td>\n",
       "      <td>5977.01</td>\n",
       "      <td>India St &amp; Manhattan Ave</td>\n",
       "      <td>5826.02</td>\n",
       "      <td>40.735550</td>\n",
       "      <td>-73.952840</td>\n",
       "      <td>40.732322</td>\n",
       "      <td>-73.955086</td>\n",
       "      <td>member</td>\n",
       "    </tr>\n",
       "    <tr>\n",
       "      <th>2</th>\n",
       "      <td>242621C23435EAB6</td>\n",
       "      <td>classic_bike</td>\n",
       "      <td>2022-01-31 08:05:11</td>\n",
       "      <td>2022-01-31 08:26:50</td>\n",
       "      <td>W 26 St &amp; 10 Ave</td>\n",
       "      <td>6382.05</td>\n",
       "      <td>E 53 St &amp; Lexington Ave</td>\n",
       "      <td>6617.09</td>\n",
       "      <td>40.749718</td>\n",
       "      <td>-74.002950</td>\n",
       "      <td>40.758281</td>\n",
       "      <td>-73.970694</td>\n",
       "      <td>member</td>\n",
       "    </tr>\n",
       "    <tr>\n",
       "      <th>3</th>\n",
       "      <td>2ED1B8EC389834CC</td>\n",
       "      <td>classic_bike</td>\n",
       "      <td>2022-01-18 11:34:24</td>\n",
       "      <td>2022-01-18 11:46:21</td>\n",
       "      <td>Pike St &amp; E Broadway</td>\n",
       "      <td>5270.05</td>\n",
       "      <td>Market St &amp; Cherry St</td>\n",
       "      <td>5198.04</td>\n",
       "      <td>40.714067</td>\n",
       "      <td>-73.992939</td>\n",
       "      <td>40.710762</td>\n",
       "      <td>-73.994004</td>\n",
       "      <td>member</td>\n",
       "    </tr>\n",
       "    <tr>\n",
       "      <th>4</th>\n",
       "      <td>A111FE6BDB460683</td>\n",
       "      <td>electric_bike</td>\n",
       "      <td>2022-01-23 04:03:30</td>\n",
       "      <td>2022-01-23 04:44:35</td>\n",
       "      <td>W 54 St &amp; 9 Ave</td>\n",
       "      <td>6920.03</td>\n",
       "      <td>Bushwick Ave &amp; Linden St</td>\n",
       "      <td>4600.09</td>\n",
       "      <td>40.765849</td>\n",
       "      <td>-73.986905</td>\n",
       "      <td>40.691460</td>\n",
       "      <td>-73.921460</td>\n",
       "      <td>member</td>\n",
       "    </tr>\n",
       "  </tbody>\n",
       "</table>\n",
       "</div>"
      ],
      "text/plain": [
       "            ride_id  rideable_type           started_at             ended_at  \\\n",
       "0  C694E40A6A22AEB5  electric_bike  2022-01-10 06:40:04  2022-01-10 06:59:42   \n",
       "1  848E6E7284EE384C   classic_bike  2022-01-14 09:07:17  2022-01-14 09:10:31   \n",
       "2  242621C23435EAB6   classic_bike  2022-01-31 08:05:11  2022-01-31 08:26:50   \n",
       "3  2ED1B8EC389834CC   classic_bike  2022-01-18 11:34:24  2022-01-18 11:46:21   \n",
       "4  A111FE6BDB460683  electric_bike  2022-01-23 04:03:30  2022-01-23 04:44:35   \n",
       "\n",
       "                 start_station_name start_station_id  \\\n",
       "0  W 64 St & Thelonious Monk Circle          7123.04   \n",
       "1        McGuinness Blvd & Eagle St          5977.01   \n",
       "2                  W 26 St & 10 Ave          6382.05   \n",
       "3              Pike St & E Broadway          5270.05   \n",
       "4                   W 54 St & 9 Ave          6920.03   \n",
       "\n",
       "           end_station_name end_station_id  start_lat  start_lng    end_lat  \\\n",
       "0           E 33 St & 1 Ave        6197.08  40.775160 -73.989187  40.743227   \n",
       "1  India St & Manhattan Ave        5826.02  40.735550 -73.952840  40.732322   \n",
       "2   E 53 St & Lexington Ave        6617.09  40.749718 -74.002950  40.758281   \n",
       "3     Market St & Cherry St        5198.04  40.714067 -73.992939  40.710762   \n",
       "4  Bushwick Ave & Linden St        4600.09  40.765849 -73.986905  40.691460   \n",
       "\n",
       "     end_lng member_casual  \n",
       "0 -73.974498        member  \n",
       "1 -73.955086        member  \n",
       "2 -73.970694        member  \n",
       "3 -73.994004        member  \n",
       "4 -73.921460        member  "
      ]
     },
     "execution_count": 6,
     "metadata": {},
     "output_type": "execute_result"
    }
   ],
   "source": [
    "m_df.head()"
   ]
  },
  {
   "cell_type": "code",
   "execution_count": 7,
   "id": "5e4af725",
   "metadata": {},
   "outputs": [
    {
     "name": "stdout",
     "output_type": "stream",
     "text": [
      "<class 'pandas.core.frame.DataFrame'>\n",
      "RangeIndex: 460350 entries, 0 to 460349\n",
      "Data columns (total 13 columns):\n",
      " #   Column              Non-Null Count   Dtype  \n",
      "---  ------              --------------   -----  \n",
      " 0   ride_id             460350 non-null  object \n",
      " 1   rideable_type       460350 non-null  object \n",
      " 2   started_at          460350 non-null  object \n",
      " 3   ended_at            460350 non-null  object \n",
      " 4   start_station_name  460349 non-null  object \n",
      " 5   start_station_id    460349 non-null  object \n",
      " 6   end_station_name    459261 non-null  object \n",
      " 7   end_station_id      459261 non-null  object \n",
      " 8   start_lat           460350 non-null  float64\n",
      " 9   start_lng           460350 non-null  float64\n",
      " 10  end_lat             459788 non-null  float64\n",
      " 11  end_lng             459788 non-null  float64\n",
      " 12  member_casual       460350 non-null  object \n",
      "dtypes: float64(4), object(9)\n",
      "memory usage: 45.7+ MB\n"
     ]
    }
   ],
   "source": [
    "m_df.info()"
   ]
  },
  {
   "cell_type": "code",
   "execution_count": null,
   "id": "b67db6ea",
   "metadata": {},
   "outputs": [],
   "source": []
  },
  {
   "cell_type": "code",
   "execution_count": null,
   "id": "136eb16a",
   "metadata": {},
   "outputs": [],
   "source": []
  }
 ],
 "metadata": {
  "kernelspec": {
   "display_name": "Python 3 (ipykernel)",
   "language": "python",
   "name": "python3"
  },
  "language_info": {
   "codemirror_mode": {
    "name": "ipython",
    "version": 3
   },
   "file_extension": ".py",
   "mimetype": "text/x-python",
   "name": "python",
   "nbconvert_exporter": "python",
   "pygments_lexer": "ipython3",
   "version": "3.9.12"
  }
 },
 "nbformat": 4,
 "nbformat_minor": 5
}
